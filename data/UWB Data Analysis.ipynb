{
 "cells": [
  {
   "cell_type": "code",
   "execution_count": 90,
   "metadata": {
    "collapsed": true
   },
   "outputs": [],
   "source": [
    "import csv\n",
    "import math\n",
    "import numpy as np\n",
    "from transformations import euler_from_quaternion\n",
    "import matplotlib.pyplot as plt\n",
    "from mpl_toolkits.mplot3d import Axes3D\n",
    "import pandas as pd\n",
    "import statsmodels.formula.api as sm\n",
    "\n",
    "import matplotlib.pyplot as plt\n",
    "import seaborn as sns"
   ]
  },
  {
   "cell_type": "code",
   "execution_count": 91,
   "metadata": {
    "collapsed": false
   },
   "outputs": [],
   "source": [
    "f = open('combined_data.csv')\n",
    "csv_f = csv.reader(f)\n",
    "\n",
    "x_actual_dists = []\n",
    "y_angles = []\n",
    "z_vars = []"
   ]
  },
  {
   "cell_type": "code",
   "execution_count": 92,
   "metadata": {
    "collapsed": true
   },
   "outputs": [],
   "source": [
    "class Labels(object):\n",
    "    pred_dist = 0\n",
    "    tag_transx = 1\n",
    "    tag_transy = 2\n",
    "    tag_transz = 3\n",
    "    tag_rotx = 4\n",
    "    tag_roty = 5\n",
    "    tag_rotz = 6\n",
    "    tag_rotw = 7\n",
    "    home_transx = 8\n",
    "    home_transy = 9\n",
    "    home_transz = 10\n",
    "    home_rotx = 11\n",
    "    home_roty = 12\n",
    "    home_rotz = 13\n",
    "    home_rotw = 14"
   ]
  },
  {
   "cell_type": "code",
   "execution_count": 93,
   "metadata": {
    "collapsed": false
   },
   "outputs": [],
   "source": [
    "#n = 0 \n",
    "current_predicted_dists = []\n",
    "current_measured_dists = []\n",
    "current_measured_angs = []\n",
    "\n",
    "for row in csv_f:\n",
    "    if len(row) == 0 or row[0] == \"\" or row[0] == \"\\x1a\":\n",
    "#        print (\"NEW LINE\")\n",
    "\n",
    "        # ANALYZE SEGMENT\n",
    "        if len(current_predicted_dists) > 0:\n",
    "            # calculate avg of measured dists and angles\n",
    "            avg_measured_dist = sum(current_measured_dists)/len(current_measured_dists)\n",
    "            avg_measured_ang = sum(current_measured_angs)/len(current_measured_angs)\n",
    "            x_actual_dists.append(avg_measured_dist)\n",
    "            y_angles.append(avg_measured_ang)\n",
    "            \n",
    "            # calculate variance\n",
    "            var = np.var(current_predicted_dists)\n",
    "            z_vars.append(var)\n",
    "       \n",
    "            # reset\n",
    "            current_predicted_dists = []\n",
    "            current_measured_dists = []\n",
    "            current_measured_angs = []\n",
    "\n",
    "    elif row[0] == \"predicted distance\":\n",
    "#        print (\"HEADING\")\n",
    "        continue\n",
    "    \n",
    "    else:\n",
    "#        print (row)\n",
    "        # add predicted distance\n",
    "#        print (row[Labels.pred_dist])\n",
    "        current_predicted_dists.append(float(row[Labels.pred_dist]))\n",
    "#        print (current_predicted_dists)\n",
    "        # add measured distance\n",
    "        x1, y1, z1 = float(row[Labels.tag_transx]), \\\n",
    "                     float(row[Labels.tag_transy]), \\\n",
    "                     float(row[Labels.tag_transz])\n",
    "        x2, y2, z2 = float(row[Labels.home_transx]), \\\n",
    "                     float(row[Labels.home_transy]), \\\n",
    "                     float(row[Labels.home_transz])\n",
    "\n",
    "        dist = math.sqrt(math.pow(x1-x2, 2) + math.pow(y1-y2, 2) \\\n",
    "             + math.pow(z1-z2, 2))\n",
    "#        print (dist)\n",
    "        current_measured_dists.append(dist)\n",
    "        \n",
    "        angle_tag = euler_from_quaternion([row[Labels.tag_rotx],\n",
    "                                      row[Labels.tag_roty],\n",
    "                                      row[Labels.tag_rotz],\n",
    "                                      row[Labels.tag_rotw]], axes=\"sxyz\")\n",
    "        angle_home = euler_from_quaternion([row[Labels.home_rotx],\n",
    "                                      row[Labels.home_roty],\n",
    "                                      row[Labels.home_rotz],\n",
    "                                      row[Labels.home_rotw]], axes=\"sxyz\")\n",
    "        a1 = angle_tag[2]\n",
    "        a2 = angle_home[2]\n",
    "        if a1 < 0:\n",
    "            a1 += math.pi\n",
    "        if a2 < 0:\n",
    "            a2 += math.pi\n",
    "        angle = abs(a2-a1)\n",
    "        if angle > math.pi/2:\n",
    "            angle = math.pi - angle\n",
    "#        if angle < 0:\n",
    "#            angle += math.pi\n",
    "        current_measured_angs.append(angle)"
   ]
  },
  {
   "cell_type": "code",
   "execution_count": 94,
   "metadata": {
    "collapsed": true
   },
   "outputs": [],
   "source": [
    "f.close()\n"
   ]
  },
  {
   "cell_type": "code",
   "execution_count": 95,
   "metadata": {
    "collapsed": false
   },
   "outputs": [
    {
     "data": {
      "text/plain": [
       "<mpl_toolkits.mplot3d.art3d.Path3DCollection at 0x227ad87c390>"
      ]
     },
     "execution_count": 95,
     "metadata": {},
     "output_type": "execute_result"
    }
   ],
   "source": [
    "fig = plt.figure()\n",
    "ax = fig.add_subplot(111, projection='3d')\n",
    "\n",
    "ax.set_xlabel('Distance (m)')\n",
    "ax.set_ylabel('Angle (rad)')\n",
    "ax.set_zlabel('Variance')\n",
    "\n",
    "ax.scatter(x_actual_dists, y_angles, z_vars)"
   ]
  },
  {
   "cell_type": "code",
   "execution_count": 96,
   "metadata": {
    "collapsed": false
   },
   "outputs": [
    {
     "data": {
      "text/html": [
       "<div>\n",
       "<table border=\"1\" class=\"dataframe\">\n",
       "  <thead>\n",
       "    <tr style=\"text-align: right;\">\n",
       "      <th></th>\n",
       "      <th></th>\n",
       "      <th>var</th>\n",
       "    </tr>\n",
       "    <tr>\n",
       "      <th>actual dist</th>\n",
       "      <th>angle</th>\n",
       "      <th></th>\n",
       "    </tr>\n",
       "  </thead>\n",
       "  <tbody>\n",
       "    <tr>\n",
       "      <th rowspan=\"8\" valign=\"top\">0.25-0.5</th>\n",
       "      <th>0.0-0.2</th>\n",
       "      <td>0.001788</td>\n",
       "    </tr>\n",
       "    <tr>\n",
       "      <th>0.2-0.4</th>\n",
       "      <td>0.001858</td>\n",
       "    </tr>\n",
       "    <tr>\n",
       "      <th>0.4-0.6</th>\n",
       "      <td>0.001890</td>\n",
       "    </tr>\n",
       "    <tr>\n",
       "      <th>0.6-0.8</th>\n",
       "      <td>0.001911</td>\n",
       "    </tr>\n",
       "    <tr>\n",
       "      <th>0.8-1.0</th>\n",
       "      <td>0.001322</td>\n",
       "    </tr>\n",
       "    <tr>\n",
       "      <th>1.0-1.2</th>\n",
       "      <td>0.001158</td>\n",
       "    </tr>\n",
       "    <tr>\n",
       "      <th>1.2-1.4</th>\n",
       "      <td>0.001708</td>\n",
       "    </tr>\n",
       "    <tr>\n",
       "      <th>1.4-1.6</th>\n",
       "      <td>0.001550</td>\n",
       "    </tr>\n",
       "    <tr>\n",
       "      <th rowspan=\"8\" valign=\"top\">0.5-0.75</th>\n",
       "      <th>0.0-0.2</th>\n",
       "      <td>0.001797</td>\n",
       "    </tr>\n",
       "    <tr>\n",
       "      <th>0.2-0.4</th>\n",
       "      <td>0.001371</td>\n",
       "    </tr>\n",
       "    <tr>\n",
       "      <th>0.4-0.6</th>\n",
       "      <td>0.001192</td>\n",
       "    </tr>\n",
       "    <tr>\n",
       "      <th>0.6-0.8</th>\n",
       "      <td>0.001099</td>\n",
       "    </tr>\n",
       "    <tr>\n",
       "      <th>0.8-1.0</th>\n",
       "      <td>0.001085</td>\n",
       "    </tr>\n",
       "    <tr>\n",
       "      <th>1.0-1.2</th>\n",
       "      <td>0.001147</td>\n",
       "    </tr>\n",
       "    <tr>\n",
       "      <th>1.2-1.4</th>\n",
       "      <td>0.001078</td>\n",
       "    </tr>\n",
       "    <tr>\n",
       "      <th>1.4-1.6</th>\n",
       "      <td>0.000813</td>\n",
       "    </tr>\n",
       "    <tr>\n",
       "      <th rowspan=\"4\" valign=\"top\">0.75-1.0</th>\n",
       "      <th>0.0-0.2</th>\n",
       "      <td>0.001364</td>\n",
       "    </tr>\n",
       "    <tr>\n",
       "      <th>0.2-0.4</th>\n",
       "      <td>0.001506</td>\n",
       "    </tr>\n",
       "    <tr>\n",
       "      <th>0.4-0.6</th>\n",
       "      <td>0.001554</td>\n",
       "    </tr>\n",
       "    <tr>\n",
       "      <th>0.6-0.8</th>\n",
       "      <td>0.001388</td>\n",
       "    </tr>\n",
       "  </tbody>\n",
       "</table>\n",
       "</div>"
      ],
      "text/plain": [
       "                          var\n",
       "actual dist angle            \n",
       "0.25-0.5    0.0-0.2  0.001788\n",
       "            0.2-0.4  0.001858\n",
       "            0.4-0.6  0.001890\n",
       "            0.6-0.8  0.001911\n",
       "            0.8-1.0  0.001322\n",
       "            1.0-1.2  0.001158\n",
       "            1.2-1.4  0.001708\n",
       "            1.4-1.6  0.001550\n",
       "0.5-0.75    0.0-0.2  0.001797\n",
       "            0.2-0.4  0.001371\n",
       "            0.4-0.6  0.001192\n",
       "            0.6-0.8  0.001099\n",
       "            0.8-1.0  0.001085\n",
       "            1.0-1.2  0.001147\n",
       "            1.2-1.4  0.001078\n",
       "            1.4-1.6  0.000813\n",
       "0.75-1.0    0.0-0.2  0.001364\n",
       "            0.2-0.4  0.001506\n",
       "            0.4-0.6  0.001554\n",
       "            0.6-0.8  0.001388"
      ]
     },
     "execution_count": 96,
     "metadata": {},
     "output_type": "execute_result"
    }
   ],
   "source": [
    "#flights = flights.pivot(x_actual_dists, y_angles, z_vars)\n",
    "#ax = sns.heatmap(flights)\n",
    "datapts = pd.read_csv('rectangle.csv')\n",
    "#datapts.head()\n",
    "\n",
    "couple_columns = datapts[['actual dist','angle', 'var']]\n",
    "couple_columns.head()\n",
    "\n",
    "x_y = couple_columns.groupby(['actual dist', 'angle']).mean()\n",
    "x_y.head(20)"
   ]
  },
  {
   "cell_type": "code",
   "execution_count": 100,
   "metadata": {
    "collapsed": false
   },
   "outputs": [
    {
     "data": {
      "text/html": [
       "<div>\n",
       "<table border=\"1\" class=\"dataframe\">\n",
       "  <thead>\n",
       "    <tr style=\"text-align: right;\">\n",
       "      <th>angle</th>\n",
       "      <th>0.0-0.2</th>\n",
       "      <th>0.2-0.4</th>\n",
       "      <th>0.4-0.6</th>\n",
       "      <th>0.6-0.8</th>\n",
       "      <th>0.8-1.0</th>\n",
       "      <th>1.0-1.2</th>\n",
       "      <th>1.2-1.4</th>\n",
       "      <th>1.4-1.6</th>\n",
       "    </tr>\n",
       "    <tr>\n",
       "      <th>actual dist</th>\n",
       "      <th></th>\n",
       "      <th></th>\n",
       "      <th></th>\n",
       "      <th></th>\n",
       "      <th></th>\n",
       "      <th></th>\n",
       "      <th></th>\n",
       "      <th></th>\n",
       "    </tr>\n",
       "  </thead>\n",
       "  <tbody>\n",
       "    <tr>\n",
       "      <th>0.25-0.5</th>\n",
       "      <td>0.001788</td>\n",
       "      <td>0.001858</td>\n",
       "      <td>0.001890</td>\n",
       "      <td>0.001911</td>\n",
       "      <td>0.001322</td>\n",
       "      <td>0.001158</td>\n",
       "      <td>0.001708</td>\n",
       "      <td>0.001550</td>\n",
       "    </tr>\n",
       "    <tr>\n",
       "      <th>0.5-0.75</th>\n",
       "      <td>0.001797</td>\n",
       "      <td>0.001371</td>\n",
       "      <td>0.001192</td>\n",
       "      <td>0.001099</td>\n",
       "      <td>0.001085</td>\n",
       "      <td>0.001147</td>\n",
       "      <td>0.001078</td>\n",
       "      <td>0.000813</td>\n",
       "    </tr>\n",
       "    <tr>\n",
       "      <th>0.75-1.0</th>\n",
       "      <td>0.001364</td>\n",
       "      <td>0.001506</td>\n",
       "      <td>0.001554</td>\n",
       "      <td>0.001388</td>\n",
       "      <td>0.000921</td>\n",
       "      <td>0.000968</td>\n",
       "      <td>0.000955</td>\n",
       "      <td>0.001065</td>\n",
       "    </tr>\n",
       "    <tr>\n",
       "      <th>1.0-1.25</th>\n",
       "      <td>0.000904</td>\n",
       "      <td>0.000783</td>\n",
       "      <td>0.000952</td>\n",
       "      <td>0.000762</td>\n",
       "      <td>0.001006</td>\n",
       "      <td>0.000740</td>\n",
       "      <td>0.000880</td>\n",
       "      <td>0.000756</td>\n",
       "    </tr>\n",
       "    <tr>\n",
       "      <th>1.25-1.5</th>\n",
       "      <td>0.000866</td>\n",
       "      <td>0.000679</td>\n",
       "      <td>0.000872</td>\n",
       "      <td>0.000893</td>\n",
       "      <td>0.000835</td>\n",
       "      <td>0.000967</td>\n",
       "      <td>0.000845</td>\n",
       "      <td>0.000809</td>\n",
       "    </tr>\n",
       "  </tbody>\n",
       "</table>\n",
       "</div>"
      ],
      "text/plain": [
       "angle         0.0-0.2   0.2-0.4   0.4-0.6   0.6-0.8   0.8-1.0   1.0-1.2  \\\n",
       "actual dist                                                               \n",
       "0.25-0.5     0.001788  0.001858  0.001890  0.001911  0.001322  0.001158   \n",
       "0.5-0.75     0.001797  0.001371  0.001192  0.001099  0.001085  0.001147   \n",
       "0.75-1.0     0.001364  0.001506  0.001554  0.001388  0.000921  0.000968   \n",
       "1.0-1.25     0.000904  0.000783  0.000952  0.000762  0.001006  0.000740   \n",
       "1.25-1.5     0.000866  0.000679  0.000872  0.000893  0.000835  0.000967   \n",
       "\n",
       "angle         1.2-1.4   1.4-1.6  \n",
       "actual dist                      \n",
       "0.25-0.5     0.001708  0.001550  \n",
       "0.5-0.75     0.001078  0.000813  \n",
       "0.75-1.0     0.000955  0.001065  \n",
       "1.0-1.25     0.000880  0.000756  \n",
       "1.25-1.5     0.000845  0.000809  "
      ]
     },
     "execution_count": 100,
     "metadata": {},
     "output_type": "execute_result"
    }
   ],
   "source": [
    "x_y.pivot('actual dist', 'angle')['var'].head()"
   ]
  },
  {
   "cell_type": "code",
   "execution_count": 112,
   "metadata": {
    "collapsed": false
   },
   "outputs": [
    {
     "data": {
      "image/png": "[encoded data removed]",
      "text/plain": [
       "<matplotlib.figure.Figure at 0x227ad87cb38>"
      ]
     },
     "metadata": {},
     "output_type": "display_data"
    }
   ],
   "source": [
    "plt.figure(figsize=(10,10))\n",
    "pivot_table = x_y.pivot('actual dist', 'angle', 'var')\n",
    "plt.xlabel('Distance Ranges (m)', size=25)\n",
    "plt.ylabel('Angle Ranges (rad)', size=15)\n",
    "plt.title('Variance', size=15)\n",
    "sns.heatmap(pivot_table, annot=True, fmt=\".1f\", linewidths=.5, square = True, cmap = 'Blues_r');\n",
    "sns.plt.show()"
   ]
  },
  {
   "cell_type": "code",
   "execution_count": 99,
   "metadata": {
    "collapsed": false
   },
   "outputs": [
    {
     "name": "stdout",
     "output_type": "stream",
     "text": [
      "Intercept             0.695856\n",
      "np.power(X, .0005)   -0.693439\n",
      "np.power(Y, .05)     -0.001371\n",
      "dtype: float64\n",
      "                            OLS Regression Results                            \n",
      "==============================================================================\n",
      "Dep. Variable:                      Z   R-squared:                       0.226\n",
      "Model:                            OLS   Adj. R-squared:                  0.225\n",
      "Method:                 Least Squares   F-statistic:                     305.3\n",
      "Date:                Fri, 30 Jun 2017   Prob (F-statistic):          4.48e-117\n",
      "Time:                        02:18:21   Log-Likelihood:                 13229.\n",
      "No. Observations:                2099   AIC:                        -2.645e+04\n",
      "Df Residuals:                    2096   BIC:                        -2.643e+04\n",
      "Df Model:                           2                                         \n",
      "Covariance Type:            nonrobust                                         \n",
      "======================================================================================\n",
      "                         coef    std err          t      P>|t|      [95.0% Conf. Int.]\n",
      "--------------------------------------------------------------------------------------\n",
      "Intercept              0.6959      0.030     23.178      0.000         0.637     0.755\n",
      "np.power(X, .0005)    -0.6934      0.030    -23.103      0.000        -0.752    -0.635\n",
      "np.power(Y, .05)      -0.0014      0.000     -7.981      0.000        -0.002    -0.001\n",
      "==============================================================================\n",
      "Omnibus:                      450.206   Durbin-Watson:                   0.786\n",
      "Prob(Omnibus):                  0.000   Jarque-Bera (JB):             1034.491\n",
      "Skew:                           1.192   Prob(JB):                    2.31e-225\n",
      "Kurtosis:                       5.480   Cond. No.                     7.52e+03\n",
      "==============================================================================\n",
      "\n",
      "Warnings:\n",
      "[1] Standard Errors assume that the covariance matrix of the errors is correctly specified.\n",
      "[2] The condition number is large, 7.52e+03. This might indicate that there are\n",
      "strong multicollinearity or other numerical problems.\n"
     ]
    }
   ],
   "source": [
    "data = pd.DataFrame({\"X\": x_actual_dists, \"Y\": y_angles, \"Z\": z_vars})\n",
    "result = sm.ols(formula=\"Z ~ np.power(X, .0005) + np.power(Y, .05)\", data=data).fit()\n",
    "\n",
    "print (result.params)\n",
    "print (result.summary())"
   ]
  },
  {
   "cell_type": "code",
   "execution_count": null,
   "metadata": {
    "collapsed": true
   },
   "outputs": [],
   "source": []
  }
 ],
 "metadata": {
  "kernelspec": {
   "display_name": "Python 3",
   "language": "python",
   "name": "python3"
  },
  "language_info": {
   "codemirror_mode": {
    "name": "ipython",
    "version": 3
   },
   "file_extension": ".py",
   "mimetype": "text/x-python",
   "name": "python",
   "nbconvert_exporter": "python",
   "pygments_lexer": "ipython3",
   "version": "3.6.0"
  }
 },
 "nbformat": 4,
 "nbformat_minor": 2
}
