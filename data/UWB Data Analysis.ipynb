{
 "cells": [
  {
   "cell_type": "code",
   "execution_count": 25,
   "metadata": {
    "collapsed": true
   },
   "outputs": [],
   "source": [
    "import csv\n",
    "import math\n",
    "import numpy as np\n",
    "from transformations import euler_from_quaternion\n",
    "import matplotlib.pyplot as plt\n",
    "from mpl_toolkits.mplot3d import Axes3D\n",
    "import pandas as pd\n",
    "import statsmodels.formula.api as sm\n",
    "\n",
    "import matplotlib.pyplot as plt\n",
    "import seaborn as sns"
   ]
  },
  {
   "cell_type": "code",
   "execution_count": 26,
   "metadata": {
    "collapsed": false
   },
   "outputs": [],
   "source": [
    "f = open('combined_data.csv')\n",
    "csv_f = csv.reader(f)\n",
    "\n",
    "x_actual_dists = []\n",
    "y_angles = []\n",
    "z_vars = []"
   ]
  },
  {
   "cell_type": "code",
   "execution_count": 27,
   "metadata": {
    "collapsed": true
   },
   "outputs": [],
   "source": [
    "class Labels(object):\n",
    "    pred_dist = 0\n",
    "    tag_transx = 1\n",
    "    tag_transy = 2\n",
    "    tag_transz = 3\n",
    "    tag_rotx = 4\n",
    "    tag_roty = 5\n",
    "    tag_rotz = 6\n",
    "    tag_rotw = 7\n",
    "    home_transx = 8\n",
    "    home_transy = 9\n",
    "    home_transz = 10\n",
    "    home_rotx = 11\n",
    "    home_roty = 12\n",
    "    home_rotz = 13\n",
    "    home_rotw = 14"
   ]
  },
  {
   "cell_type": "code",
   "execution_count": 28,
   "metadata": {
    "collapsed": false
   },
   "outputs": [],
   "source": [
    "#n = 0 \n",
    "current_predicted_dists = []\n",
    "current_measured_dists = []\n",
    "current_measured_angs = []\n",
    "\n",
    "for row in csv_f:\n",
    "    if len(row) == 0 or row[0] == \"\" or row[0] == \"\\x1a\":\n",
    "#        print (\"NEW LINE\")\n",
    "\n",
    "        # ANALYZE SEGMENT\n",
    "        if len(current_predicted_dists) > 0:\n",
    "            # calculate avg of measured dists and angles\n",
    "            avg_measured_dist = sum(current_measured_dists)/len(current_measured_dists)\n",
    "            avg_measured_ang = sum(current_measured_angs)/len(current_measured_angs)\n",
    "            x_actual_dists.append(avg_measured_dist)\n",
    "            y_angles.append(avg_measured_ang)\n",
    "            \n",
    "            # calculate variance\n",
    "            var = np.var(current_predicted_dists)\n",
    "            z_vars.append(var)\n",
    "       \n",
    "            # reset\n",
    "            current_predicted_dists = []\n",
    "            current_measured_dists = []\n",
    "            current_measured_angs = []\n",
    "\n",
    "    elif row[0] == \"predicted distance\":\n",
    "#        print (\"HEADING\")\n",
    "        continue\n",
    "    \n",
    "    else:\n",
    "#        print (row)\n",
    "        # add predicted distance\n",
    "#        print (row[Labels.pred_dist])\n",
    "        current_predicted_dists.append(float(row[Labels.pred_dist]))\n",
    "#        print (current_predicted_dists)\n",
    "        # add measured distance\n",
    "        x1, y1, z1 = float(row[Labels.tag_transx]), \\\n",
    "                     float(row[Labels.tag_transy]), \\\n",
    "                     float(row[Labels.tag_transz])\n",
    "        x2, y2, z2 = float(row[Labels.home_transx]), \\\n",
    "                     float(row[Labels.home_transy]), \\\n",
    "                     float(row[Labels.home_transz])\n",
    "\n",
    "        dist = math.sqrt(math.pow(x1-x2, 2) + math.pow(y1-y2, 2) \\\n",
    "             + math.pow(z1-z2, 2))\n",
    "#        print (dist)\n",
    "        current_measured_dists.append(dist)\n",
    "        \n",
    "        angle_tag = euler_from_quaternion([row[Labels.tag_rotx],\n",
    "                                      row[Labels.tag_roty],\n",
    "                                      row[Labels.tag_rotz],\n",
    "                                      row[Labels.tag_rotw]], axes=\"sxyz\")\n",
    "        angle_home = euler_from_quaternion([row[Labels.home_rotx],\n",
    "                                      row[Labels.home_roty],\n",
    "                                      row[Labels.home_rotz],\n",
    "                                      row[Labels.home_rotw]], axes=\"sxyz\")\n",
    "        a1 = angle_tag[2]\n",
    "        a2 = angle_home[2]\n",
    "        if a1 < 0:\n",
    "            a1 += math.pi\n",
    "        if a2 < 0:\n",
    "            a2 += math.pi\n",
    "        angle = abs(a2-a1)\n",
    "        if angle > math.pi/2:\n",
    "            angle = math.pi - angle\n",
    "#        if angle < 0:\n",
    "#            angle += math.pi\n",
    "        current_measured_angs.append(angle)"
   ]
  },
  {
   "cell_type": "code",
   "execution_count": 29,
   "metadata": {
    "collapsed": true
   },
   "outputs": [],
   "source": [
    "f.close()\n"
   ]
  },
  {
   "cell_type": "code",
   "execution_count": 44,
   "metadata": {
    "collapsed": false
   },
   "outputs": [
    {
     "data": {
      "text/plain": [
       "<mpl_toolkits.mplot3d.art3d.Path3DCollection at 0x227abf60550>"
      ]
     },
     "execution_count": 44,
     "metadata": {},
     "output_type": "execute_result"
    }
   ],
   "source": [
    "fig = plt.figure()\n",
    "ax = fig.add_subplot(111, projection='3d')\n",
    "\n",
    "ax.set_xlabel('Distance (m)')\n",
    "ax.set_ylabel('Angle (rad)')\n",
    "ax.set_zlabel('Variance')\n",
    "\n",
    "ax.scatter(x_actual_dists, y_angles, z_vars)"
   ]
  },
  {
   "cell_type": "code",
   "execution_count": 31,
   "metadata": {
    "collapsed": false
   },
   "outputs": [],
   "source": [
    "#flights = flights.pivot(x_actual_dists, y_angles, z_vars)\n",
    "#ax = sns.heatmap(flights)"
   ]
  },
  {
   "cell_type": "code",
   "execution_count": 43,
   "metadata": {
    "collapsed": false
   },
   "outputs": [
    {
     "name": "stdout",
     "output_type": "stream",
     "text": [
      "Intercept             0.695478\n",
      "np.power(X, .0005)   -0.693522\n",
      "np.power(Y, .08)     -0.000911\n",
      "dtype: float64\n",
      "                            OLS Regression Results                            \n",
      "==============================================================================\n",
      "Dep. Variable:                      Z   R-squared:                       0.226\n",
      "Model:                            OLS   Adj. R-squared:                  0.225\n",
      "Method:                 Least Squares   F-statistic:                     306.2\n",
      "Date:                Thu, 29 Jun 2017   Prob (F-statistic):          2.11e-117\n",
      "Time:                        03:40:57   Log-Likelihood:                 13230.\n",
      "No. Observations:                2099   AIC:                        -2.645e+04\n",
      "Df Residuals:                    2096   BIC:                        -2.644e+04\n",
      "Df Model:                           2                                         \n",
      "Covariance Type:            nonrobust                                         \n",
      "======================================================================================\n",
      "                         coef    std err          t      P>|t|      [95.0% Conf. Int.]\n",
      "--------------------------------------------------------------------------------------\n",
      "Intercept              0.6955      0.030     23.173      0.000         0.637     0.754\n",
      "np.power(X, .0005)    -0.6935      0.030    -23.115      0.000        -0.752    -0.635\n",
      "np.power(Y, .08)      -0.0009      0.000     -8.077      0.000        -0.001    -0.001\n",
      "==============================================================================\n",
      "Omnibus:                      449.835   Durbin-Watson:                   0.787\n",
      "Prob(Omnibus):                  0.000   Jarque-Bera (JB):             1033.646\n",
      "Skew:                           1.191   Prob(JB):                    3.52e-225\n",
      "Kurtosis:                       5.480   Cond. No.                     7.48e+03\n",
      "==============================================================================\n",
      "\n",
      "Warnings:\n",
      "[1] Standard Errors assume that the covariance matrix of the errors is correctly specified.\n",
      "[2] The condition number is large, 7.48e+03. This might indicate that there are\n",
      "strong multicollinearity or other numerical problems.\n"
     ]
    }
   ],
   "source": [
    "data = pd.DataFrame({\"X\": x_actual_dists, \"Y\": y_angles, \"Z\": z_vars})\n",
    "result = sm.ols(formula=\"Z ~ np.power(X, .0005) + np.power(Y, .05)\", data=data).fit()\n",
    "\n",
    "print (result.params)\n",
    "print (result.summary())"
   ]
  },
  {
   "cell_type": "code",
   "execution_count": null,
   "metadata": {
    "collapsed": true
   },
   "outputs": [],
   "source": []
  }
 ],
 "metadata": {
  "kernelspec": {
   "display_name": "Python 3",
   "language": "python",
   "name": "python3"
  },
  "language_info": {
   "codemirror_mode": {
    "name": "ipython",
    "version": 3
   },
   "file_extension": ".py",
   "mimetype": "text/x-python",
   "name": "python",
   "nbconvert_exporter": "python",
   "pygments_lexer": "ipython3",
   "version": "3.6.0"
  }
 },
 "nbformat": 4,
 "nbformat_minor": 2
}
